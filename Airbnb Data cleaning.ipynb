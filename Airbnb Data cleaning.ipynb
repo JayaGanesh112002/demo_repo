{
 "cells": [
  {
   "cell_type": "code",
   "execution_count": 5,
   "metadata": {},
   "outputs": [
    {
     "name": "stdout",
     "output_type": "stream",
     "text": [
      "Collecting seaborn\n",
      "  Downloading seaborn-0.13.2-py3-none-any.whl.metadata (5.4 kB)\n",
      "Requirement already satisfied: numpy!=1.24.0,>=1.20 in c:\\users\\jayag\\desktop\\guvi python\\guvi\\lib\\site-packages (from seaborn) (1.26.4)\n",
      "Requirement already satisfied: pandas>=1.2 in c:\\users\\jayag\\desktop\\guvi python\\guvi\\lib\\site-packages (from seaborn) (2.2.2)\n",
      "Requirement already satisfied: matplotlib!=3.6.1,>=3.4 in c:\\users\\jayag\\desktop\\guvi python\\guvi\\lib\\site-packages (from seaborn) (3.9.0)\n",
      "Requirement already satisfied: contourpy>=1.0.1 in c:\\users\\jayag\\desktop\\guvi python\\guvi\\lib\\site-packages (from matplotlib!=3.6.1,>=3.4->seaborn) (1.2.1)\n",
      "Requirement already satisfied: cycler>=0.10 in c:\\users\\jayag\\desktop\\guvi python\\guvi\\lib\\site-packages (from matplotlib!=3.6.1,>=3.4->seaborn) (0.12.1)\n",
      "Requirement already satisfied: fonttools>=4.22.0 in c:\\users\\jayag\\desktop\\guvi python\\guvi\\lib\\site-packages (from matplotlib!=3.6.1,>=3.4->seaborn) (4.53.0)\n",
      "Requirement already satisfied: kiwisolver>=1.3.1 in c:\\users\\jayag\\desktop\\guvi python\\guvi\\lib\\site-packages (from matplotlib!=3.6.1,>=3.4->seaborn) (1.4.5)\n",
      "Requirement already satisfied: packaging>=20.0 in c:\\users\\jayag\\desktop\\guvi python\\guvi\\lib\\site-packages (from matplotlib!=3.6.1,>=3.4->seaborn) (24.0)\n",
      "Requirement already satisfied: pillow>=8 in c:\\users\\jayag\\desktop\\guvi python\\guvi\\lib\\site-packages (from matplotlib!=3.6.1,>=3.4->seaborn) (10.3.0)\n",
      "Requirement already satisfied: pyparsing>=2.3.1 in c:\\users\\jayag\\desktop\\guvi python\\guvi\\lib\\site-packages (from matplotlib!=3.6.1,>=3.4->seaborn) (3.1.2)\n",
      "Requirement already satisfied: python-dateutil>=2.7 in c:\\users\\jayag\\desktop\\guvi python\\guvi\\lib\\site-packages (from matplotlib!=3.6.1,>=3.4->seaborn) (2.9.0.post0)\n",
      "Requirement already satisfied: pytz>=2020.1 in c:\\users\\jayag\\desktop\\guvi python\\guvi\\lib\\site-packages (from pandas>=1.2->seaborn) (2024.1)\n",
      "Requirement already satisfied: tzdata>=2022.7 in c:\\users\\jayag\\desktop\\guvi python\\guvi\\lib\\site-packages (from pandas>=1.2->seaborn) (2024.1)\n",
      "Requirement already satisfied: six>=1.5 in c:\\users\\jayag\\desktop\\guvi python\\guvi\\lib\\site-packages (from python-dateutil>=2.7->matplotlib!=3.6.1,>=3.4->seaborn) (1.16.0)\n",
      "Downloading seaborn-0.13.2-py3-none-any.whl (294 kB)\n",
      "   ---------------------------------------- 0.0/294.9 kB ? eta -:--:--\n",
      "   - -------------------------------------- 10.2/294.9 kB ? eta -:--:--\n",
      "   -- ------------------------------------ 20.5/294.9 kB 217.9 kB/s eta 0:00:02\n",
      "   ----- --------------------------------- 41.0/294.9 kB 326.8 kB/s eta 0:00:01\n",
      "   ----------------- -------------------- 133.1/294.9 kB 871.5 kB/s eta 0:00:01\n",
      "   ---------------------------------------- 294.9/294.9 kB 1.4 MB/s eta 0:00:00\n",
      "Installing collected packages: seaborn\n",
      "Successfully installed seaborn-0.13.2\n"
     ]
    }
   ],
   "source": [
    "! pip install seaborn"
   ]
  },
  {
   "cell_type": "code",
   "execution_count": 2,
   "metadata": {},
   "outputs": [],
   "source": [
    "# Import libraries\n",
    "import pandas as pd\n",
    "import matplotlib.pyplot as plt\n",
    "import numpy as np\n",
    "# import seaborn as sns\n",
    "# import missingno as msno\n",
    "import datetime as dt"
   ]
  },
  {
   "cell_type": "code",
   "execution_count": 3,
   "metadata": {},
   "outputs": [],
   "source": [
    "# Read in the dataset\n",
    "airbnb = pd.read_csv('https://raw.githubusercontent.com/nethajinirmal13/Training-datasets/main/airbnb.csv?raw=true', index_col = 'Unnamed: 0')"
   ]
  },
  {
   "cell_type": "code",
   "execution_count": 7,
   "metadata": {},
   "outputs": [
    {
     "data": {
      "text/plain": [
       "Index(['listing_id', 'name', 'host_id', 'host_name', 'neighbourhood_full',\n",
       "       'coordinates', 'room_type', 'price', 'number_of_reviews', 'last_review',\n",
       "       'reviews_per_month', 'availability_365', 'rating', 'number_of_stays',\n",
       "       '5_stars', 'listing_added'],\n",
       "      dtype='object')"
      ]
     },
     "execution_count": 7,
     "metadata": {},
     "output_type": "execute_result"
    }
   ],
   "source": [
    "airbnb.columns"
   ]
  },
  {
   "cell_type": "code",
   "execution_count": 8,
   "metadata": {},
   "outputs": [
    {
     "data": {
      "text/plain": [
       "(10019, 16)"
      ]
     },
     "execution_count": 8,
     "metadata": {},
     "output_type": "execute_result"
    }
   ],
   "source": [
    "airbnb.shape"
   ]
  },
  {
   "cell_type": "code",
   "execution_count": 10,
   "metadata": {},
   "outputs": [
    {
     "name": "stdout",
     "output_type": "stream",
     "text": [
      "<class 'pandas.core.frame.DataFrame'>\n",
      "Index: 10019 entries, 0 to 10018\n",
      "Data columns (total 16 columns):\n",
      " #   Column              Non-Null Count  Dtype  \n",
      "---  ------              --------------  -----  \n",
      " 0   listing_id          10019 non-null  int64  \n",
      " 1   name                10014 non-null  object \n",
      " 2   host_id             10019 non-null  int64  \n",
      " 3   host_name           10017 non-null  object \n",
      " 4   neighbourhood_full  10019 non-null  object \n",
      " 5   coordinates         10019 non-null  object \n",
      " 6   room_type           10019 non-null  object \n",
      " 7   price               9781 non-null   object \n",
      " 8   number_of_reviews   10019 non-null  int64  \n",
      " 9   last_review         7944 non-null   object \n",
      " 10  reviews_per_month   7944 non-null   float64\n",
      " 11  availability_365    10019 non-null  int64  \n",
      " 12  rating              7944 non-null   float64\n",
      " 13  number_of_stays     7944 non-null   float64\n",
      " 14  5_stars             7944 non-null   float64\n",
      " 15  listing_added       10019 non-null  object \n",
      "dtypes: float64(4), int64(4), object(8)\n",
      "memory usage: 1.3+ MB\n"
     ]
    }
   ],
   "source": [
    "airbnb.info()"
   ]
  },
  {
   "cell_type": "code",
   "execution_count": 12,
   "metadata": {},
   "outputs": [
    {
     "name": "stdout",
     "output_type": "stream",
     "text": [
      "listing_id :  9999 labels\n",
      "name :  9920 labels\n",
      "host_id :  8921 labels\n",
      "host_name :  4085 labels\n",
      "neighbourhood_full :  198 labels\n",
      "coordinates :  9997 labels\n",
      "room_type :  7 labels\n",
      "price :  434 labels\n",
      "number_of_reviews :  271 labels\n",
      "last_review :  1223 labels\n",
      "reviews_per_month :  684 labels\n",
      "availability_365 :  366 labels\n",
      "rating :  7930 labels\n",
      "number_of_stays :  271 labels\n",
      "5_stars :  7929 labels\n",
      "listing_added :  1235 labels\n"
     ]
    }
   ],
   "source": [
    "for col in airbnb.columns:\n",
    "   print(col, ': ', len(airbnb[col].unique()), 'labels')"
   ]
  },
  {
   "cell_type": "code",
   "execution_count": 13,
   "metadata": {},
   "outputs": [
    {
     "data": {
      "text/plain": [
       "listing_id               0\n",
       "name                     5\n",
       "host_id                  0\n",
       "host_name                2\n",
       "neighbourhood_full       0\n",
       "coordinates              0\n",
       "room_type                0\n",
       "price                  238\n",
       "number_of_reviews        0\n",
       "last_review           2075\n",
       "reviews_per_month     2075\n",
       "availability_365         0\n",
       "rating                2075\n",
       "number_of_stays       2075\n",
       "5_stars               2075\n",
       "listing_added            0\n",
       "dtype: int64"
      ]
     },
     "execution_count": 13,
     "metadata": {},
     "output_type": "execute_result"
    }
   ],
   "source": [
    "airbnb.isnull().sum()"
   ]
  },
  {
   "cell_type": "code",
   "execution_count": 14,
   "metadata": {},
   "outputs": [
    {
     "data": {
      "text/plain": [
       "0    40.63222, -73.93398\n",
       "1    40.78761, -73.96862\n",
       "2     40.7007, -73.99517\n",
       "3    40.79169, -73.97498\n",
       "4    40.71884, -73.98354\n",
       "Name: coordinates, dtype: object"
      ]
     },
     "execution_count": 14,
     "metadata": {},
     "output_type": "execute_result"
    }
   ],
   "source": [
    "# Remove \"(\" and \")\" from coordinates\n",
    "airbnb['coordinates'] = airbnb['coordinates'].str.replace(\"(\",\"\")\n",
    "airbnb['coordinates'] = airbnb['coordinates'].str.replace(\")\",\"\")\n",
    "# Print the header of the column\n",
    "airbnb['coordinates'].head()"
   ]
  },
  {
   "cell_type": "code",
   "execution_count": 15,
   "metadata": {},
   "outputs": [
    {
     "data": {
      "text/html": [
       "<div>\n",
       "<style scoped>\n",
       "    .dataframe tbody tr th:only-of-type {\n",
       "        vertical-align: middle;\n",
       "    }\n",
       "\n",
       "    .dataframe tbody tr th {\n",
       "        vertical-align: top;\n",
       "    }\n",
       "\n",
       "    .dataframe thead th {\n",
       "        text-align: right;\n",
       "    }\n",
       "</style>\n",
       "<table border=\"1\" class=\"dataframe\">\n",
       "  <thead>\n",
       "    <tr style=\"text-align: right;\">\n",
       "      <th></th>\n",
       "      <th>0</th>\n",
       "      <th>1</th>\n",
       "    </tr>\n",
       "  </thead>\n",
       "  <tbody>\n",
       "    <tr>\n",
       "      <th>0</th>\n",
       "      <td>40.63222</td>\n",
       "      <td>-73.93398</td>\n",
       "    </tr>\n",
       "    <tr>\n",
       "      <th>1</th>\n",
       "      <td>40.78761</td>\n",
       "      <td>-73.96862</td>\n",
       "    </tr>\n",
       "    <tr>\n",
       "      <th>2</th>\n",
       "      <td>40.7007</td>\n",
       "      <td>-73.99517</td>\n",
       "    </tr>\n",
       "    <tr>\n",
       "      <th>3</th>\n",
       "      <td>40.79169</td>\n",
       "      <td>-73.97498</td>\n",
       "    </tr>\n",
       "    <tr>\n",
       "      <th>4</th>\n",
       "      <td>40.71884</td>\n",
       "      <td>-73.98354</td>\n",
       "    </tr>\n",
       "  </tbody>\n",
       "</table>\n",
       "</div>"
      ],
      "text/plain": [
       "          0           1\n",
       "0  40.63222   -73.93398\n",
       "1  40.78761   -73.96862\n",
       "2   40.7007   -73.99517\n",
       "3  40.79169   -73.97498\n",
       "4  40.71884   -73.98354"
      ]
     },
     "execution_count": 15,
     "metadata": {},
     "output_type": "execute_result"
    }
   ],
   "source": [
    "# Split column into two\n",
    "lat_long = airbnb['coordinates'].str.split(\",\", expand = True)\n",
    "lat_long.head()"
   ]
  },
  {
   "cell_type": "code",
   "execution_count": 16,
   "metadata": {},
   "outputs": [
    {
     "data": {
      "text/html": [
       "<div>\n",
       "<style scoped>\n",
       "    .dataframe tbody tr th:only-of-type {\n",
       "        vertical-align: middle;\n",
       "    }\n",
       "\n",
       "    .dataframe tbody tr th {\n",
       "        vertical-align: top;\n",
       "    }\n",
       "\n",
       "    .dataframe thead th {\n",
       "        text-align: right;\n",
       "    }\n",
       "</style>\n",
       "<table border=\"1\" class=\"dataframe\">\n",
       "  <thead>\n",
       "    <tr style=\"text-align: right;\">\n",
       "      <th></th>\n",
       "      <th>listing_id</th>\n",
       "      <th>name</th>\n",
       "      <th>host_id</th>\n",
       "      <th>host_name</th>\n",
       "      <th>neighbourhood_full</th>\n",
       "      <th>coordinates</th>\n",
       "      <th>room_type</th>\n",
       "      <th>price</th>\n",
       "      <th>number_of_reviews</th>\n",
       "      <th>last_review</th>\n",
       "      <th>reviews_per_month</th>\n",
       "      <th>availability_365</th>\n",
       "      <th>rating</th>\n",
       "      <th>number_of_stays</th>\n",
       "      <th>5_stars</th>\n",
       "      <th>listing_added</th>\n",
       "      <th>latitude</th>\n",
       "      <th>longitude</th>\n",
       "    </tr>\n",
       "  </thead>\n",
       "  <tbody>\n",
       "    <tr>\n",
       "      <th>0</th>\n",
       "      <td>13740704</td>\n",
       "      <td>Cozy,budget friendly, cable inc, private entra...</td>\n",
       "      <td>20583125</td>\n",
       "      <td>Michel</td>\n",
       "      <td>Brooklyn, Flatlands</td>\n",
       "      <td>40.63222, -73.93398</td>\n",
       "      <td>Private room</td>\n",
       "      <td>45$</td>\n",
       "      <td>10</td>\n",
       "      <td>2018-12-12</td>\n",
       "      <td>0.70</td>\n",
       "      <td>85</td>\n",
       "      <td>4.100954</td>\n",
       "      <td>12.0</td>\n",
       "      <td>0.609432</td>\n",
       "      <td>2018-06-08</td>\n",
       "      <td>40.63222</td>\n",
       "      <td>-73.93398</td>\n",
       "    </tr>\n",
       "    <tr>\n",
       "      <th>1</th>\n",
       "      <td>22005115</td>\n",
       "      <td>Two floor apartment near Central Park</td>\n",
       "      <td>82746113</td>\n",
       "      <td>Cecilia</td>\n",
       "      <td>Manhattan, Upper West Side</td>\n",
       "      <td>40.78761, -73.96862</td>\n",
       "      <td>Entire home/apt</td>\n",
       "      <td>135$</td>\n",
       "      <td>1</td>\n",
       "      <td>2019-06-30</td>\n",
       "      <td>1.00</td>\n",
       "      <td>145</td>\n",
       "      <td>3.367600</td>\n",
       "      <td>1.2</td>\n",
       "      <td>0.746135</td>\n",
       "      <td>2018-12-25</td>\n",
       "      <td>40.78761</td>\n",
       "      <td>-73.96862</td>\n",
       "    </tr>\n",
       "    <tr>\n",
       "      <th>2</th>\n",
       "      <td>21667615</td>\n",
       "      <td>Beautiful 1BR in Brooklyn Heights</td>\n",
       "      <td>78251</td>\n",
       "      <td>Leslie</td>\n",
       "      <td>Brooklyn, Brooklyn Heights</td>\n",
       "      <td>40.7007, -73.99517</td>\n",
       "      <td>Entire home/apt</td>\n",
       "      <td>150$</td>\n",
       "      <td>0</td>\n",
       "      <td>NaN</td>\n",
       "      <td>NaN</td>\n",
       "      <td>65</td>\n",
       "      <td>NaN</td>\n",
       "      <td>NaN</td>\n",
       "      <td>NaN</td>\n",
       "      <td>2018-08-15</td>\n",
       "      <td>40.7007</td>\n",
       "      <td>-73.99517</td>\n",
       "    </tr>\n",
       "    <tr>\n",
       "      <th>3</th>\n",
       "      <td>6425850</td>\n",
       "      <td>Spacious, charming studio</td>\n",
       "      <td>32715865</td>\n",
       "      <td>Yelena</td>\n",
       "      <td>Manhattan, Upper West Side</td>\n",
       "      <td>40.79169, -73.97498</td>\n",
       "      <td>Entire home/apt</td>\n",
       "      <td>86$</td>\n",
       "      <td>5</td>\n",
       "      <td>2017-09-23</td>\n",
       "      <td>0.13</td>\n",
       "      <td>0</td>\n",
       "      <td>4.763203</td>\n",
       "      <td>6.0</td>\n",
       "      <td>0.769947</td>\n",
       "      <td>2017-03-20</td>\n",
       "      <td>40.79169</td>\n",
       "      <td>-73.97498</td>\n",
       "    </tr>\n",
       "    <tr>\n",
       "      <th>4</th>\n",
       "      <td>22986519</td>\n",
       "      <td>Bedroom on the lively Lower East Side</td>\n",
       "      <td>154262349</td>\n",
       "      <td>Brooke</td>\n",
       "      <td>Manhattan, Lower East Side</td>\n",
       "      <td>40.71884, -73.98354</td>\n",
       "      <td>Private room</td>\n",
       "      <td>160$</td>\n",
       "      <td>23</td>\n",
       "      <td>2019-06-12</td>\n",
       "      <td>2.29</td>\n",
       "      <td>102</td>\n",
       "      <td>3.822591</td>\n",
       "      <td>27.6</td>\n",
       "      <td>0.649383</td>\n",
       "      <td>2020-10-23</td>\n",
       "      <td>40.71884</td>\n",
       "      <td>-73.98354</td>\n",
       "    </tr>\n",
       "  </tbody>\n",
       "</table>\n",
       "</div>"
      ],
      "text/plain": [
       "   listing_id                                               name    host_id  \\\n",
       "0    13740704  Cozy,budget friendly, cable inc, private entra...   20583125   \n",
       "1    22005115              Two floor apartment near Central Park   82746113   \n",
       "2    21667615                  Beautiful 1BR in Brooklyn Heights      78251   \n",
       "3     6425850                          Spacious, charming studio   32715865   \n",
       "4    22986519              Bedroom on the lively Lower East Side  154262349   \n",
       "\n",
       "  host_name          neighbourhood_full          coordinates        room_type  \\\n",
       "0    Michel         Brooklyn, Flatlands  40.63222, -73.93398     Private room   \n",
       "1   Cecilia  Manhattan, Upper West Side  40.78761, -73.96862  Entire home/apt   \n",
       "2    Leslie  Brooklyn, Brooklyn Heights   40.7007, -73.99517  Entire home/apt   \n",
       "3    Yelena  Manhattan, Upper West Side  40.79169, -73.97498  Entire home/apt   \n",
       "4    Brooke  Manhattan, Lower East Side  40.71884, -73.98354     Private room   \n",
       "\n",
       "  price  number_of_reviews last_review  reviews_per_month  availability_365  \\\n",
       "0   45$                 10  2018-12-12               0.70                85   \n",
       "1  135$                  1  2019-06-30               1.00               145   \n",
       "2  150$                  0         NaN                NaN                65   \n",
       "3   86$                  5  2017-09-23               0.13                 0   \n",
       "4  160$                 23  2019-06-12               2.29               102   \n",
       "\n",
       "     rating  number_of_stays   5_stars listing_added  latitude   longitude  \n",
       "0  4.100954             12.0  0.609432    2018-06-08  40.63222   -73.93398  \n",
       "1  3.367600              1.2  0.746135    2018-12-25  40.78761   -73.96862  \n",
       "2       NaN              NaN       NaN    2018-08-15   40.7007   -73.99517  \n",
       "3  4.763203              6.0  0.769947    2017-03-20  40.79169   -73.97498  \n",
       "4  3.822591             27.6  0.649383    2020-10-23  40.71884   -73.98354  "
      ]
     },
     "execution_count": 16,
     "metadata": {},
     "output_type": "execute_result"
    }
   ],
   "source": [
    "# Assign correct columns to latitude and longitude columns in airbnb\n",
    "airbnb['latitude'] = lat_long[0]\n",
    "airbnb['longitude'] = lat_long[1]\n",
    "# Print the header and confirm new column creation\n",
    "airbnb.head()"
   ]
  },
  {
   "cell_type": "code",
   "execution_count": 17,
   "metadata": {},
   "outputs": [
    {
     "data": {
      "text/plain": [
       "listing_id              int64\n",
       "name                   object\n",
       "host_id                 int64\n",
       "host_name              object\n",
       "neighbourhood_full     object\n",
       "coordinates            object\n",
       "room_type              object\n",
       "price                  object\n",
       "number_of_reviews       int64\n",
       "last_review            object\n",
       "reviews_per_month     float64\n",
       "availability_365        int64\n",
       "rating                float64\n",
       "number_of_stays       float64\n",
       "5_stars               float64\n",
       "listing_added          object\n",
       "latitude              float64\n",
       "longitude             float64\n",
       "dtype: object"
      ]
     },
     "execution_count": 17,
     "metadata": {},
     "output_type": "execute_result"
    }
   ],
   "source": [
    "# Convert latitude and longitude to float\n",
    "airbnb['latitude'] = airbnb['latitude'].astype('float')\n",
    "airbnb['longitude'] = airbnb['longitude'].astype('float')\n",
    "# Print dtypes again\n",
    "airbnb.dtypes"
   ]
  },
  {
   "cell_type": "code",
   "execution_count": 18,
   "metadata": {},
   "outputs": [],
   "source": [
    "airbnb.drop('coordinates',axis=1,inplace=True)"
   ]
  },
  {
   "cell_type": "code",
   "execution_count": 20,
   "metadata": {},
   "outputs": [
    {
     "data": {
      "text/html": [
       "<div>\n",
       "<style scoped>\n",
       "    .dataframe tbody tr th:only-of-type {\n",
       "        vertical-align: middle;\n",
       "    }\n",
       "\n",
       "    .dataframe tbody tr th {\n",
       "        vertical-align: top;\n",
       "    }\n",
       "\n",
       "    .dataframe thead th {\n",
       "        text-align: right;\n",
       "    }\n",
       "</style>\n",
       "<table border=\"1\" class=\"dataframe\">\n",
       "  <thead>\n",
       "    <tr style=\"text-align: right;\">\n",
       "      <th></th>\n",
       "      <th>listing_added</th>\n",
       "      <th>last_review</th>\n",
       "    </tr>\n",
       "  </thead>\n",
       "  <tbody>\n",
       "    <tr>\n",
       "      <th>0</th>\n",
       "      <td>2018-06-08</td>\n",
       "      <td>2018-12-12</td>\n",
       "    </tr>\n",
       "    <tr>\n",
       "      <th>1</th>\n",
       "      <td>2018-12-25</td>\n",
       "      <td>2019-06-30</td>\n",
       "    </tr>\n",
       "    <tr>\n",
       "      <th>2</th>\n",
       "      <td>2018-08-15</td>\n",
       "      <td>NaN</td>\n",
       "    </tr>\n",
       "    <tr>\n",
       "      <th>3</th>\n",
       "      <td>2017-03-20</td>\n",
       "      <td>2017-09-23</td>\n",
       "    </tr>\n",
       "    <tr>\n",
       "      <th>4</th>\n",
       "      <td>2020-10-23</td>\n",
       "      <td>2019-06-12</td>\n",
       "    </tr>\n",
       "  </tbody>\n",
       "</table>\n",
       "</div>"
      ],
      "text/plain": [
       "  listing_added last_review\n",
       "0    2018-06-08  2018-12-12\n",
       "1    2018-12-25  2019-06-30\n",
       "2    2018-08-15         NaN\n",
       "3    2017-03-20  2017-09-23\n",
       "4    2020-10-23  2019-06-12"
      ]
     },
     "execution_count": 20,
     "metadata": {},
     "output_type": "execute_result"
    }
   ],
   "source": [
    "# Print header of two columns\n",
    "airbnb[['listing_added', 'last_review']].head()"
   ]
  },
  {
   "cell_type": "code",
   "execution_count": 21,
   "metadata": {},
   "outputs": [],
   "source": [
    "# Convert both columns to datetime\n",
    "airbnb['listing_added'] = pd.to_datetime(airbnb['listing_added'], format = '%Y-%m-%d')\n",
    "airbnb['last_review'] = pd.to_datetime(airbnb['last_review'], format = '%Y-%m-%d')"
   ]
  },
  {
   "cell_type": "code",
   "execution_count": 22,
   "metadata": {},
   "outputs": [
    {
     "name": "stdout",
     "output_type": "stream",
     "text": [
      "  listing_added last_review\n",
      "0    2018-06-08  2018-12-12\n",
      "1    2018-12-25  2019-06-30\n",
      "2    2018-08-15         NaT\n",
      "3    2017-03-20  2017-09-23\n",
      "4    2020-10-23  2019-06-12\n",
      "listing_added    datetime64[ns]\n",
      "last_review      datetime64[ns]\n",
      "dtype: object\n"
     ]
    }
   ],
   "source": [
    "# Print header and datatypes of both columns again\n",
    "print(airbnb[['listing_added', 'last_review']].head())\n",
    "print(airbnb[['listing_added', 'last_review']].dtypes)"
   ]
  },
  {
   "cell_type": "code",
   "execution_count": 23,
   "metadata": {},
   "outputs": [
    {
     "data": {
      "text/plain": [
       "datetime.date(2024, 6, 9)"
      ]
     },
     "execution_count": 23,
     "metadata": {},
     "output_type": "execute_result"
    }
   ],
   "source": [
    "today = dt.date.today()\n",
    "today\n"
   ]
  },
  {
   "cell_type": "code",
   "execution_count": 24,
   "metadata": {},
   "outputs": [
    {
     "data": {
      "text/html": [
       "<div>\n",
       "<style scoped>\n",
       "    .dataframe tbody tr th:only-of-type {\n",
       "        vertical-align: middle;\n",
       "    }\n",
       "\n",
       "    .dataframe tbody tr th {\n",
       "        vertical-align: top;\n",
       "    }\n",
       "\n",
       "    .dataframe thead th {\n",
       "        text-align: right;\n",
       "    }\n",
       "</style>\n",
       "<table border=\"1\" class=\"dataframe\">\n",
       "  <thead>\n",
       "    <tr style=\"text-align: right;\">\n",
       "      <th></th>\n",
       "      <th>listing_id</th>\n",
       "      <th>name</th>\n",
       "      <th>host_id</th>\n",
       "      <th>host_name</th>\n",
       "      <th>neighbourhood_full</th>\n",
       "      <th>room_type</th>\n",
       "      <th>price</th>\n",
       "      <th>number_of_reviews</th>\n",
       "      <th>last_review</th>\n",
       "      <th>reviews_per_month</th>\n",
       "      <th>availability_365</th>\n",
       "      <th>rating</th>\n",
       "      <th>number_of_stays</th>\n",
       "      <th>5_stars</th>\n",
       "      <th>listing_added</th>\n",
       "      <th>latitude</th>\n",
       "      <th>longitude</th>\n",
       "    </tr>\n",
       "  </thead>\n",
       "  <tbody>\n",
       "  </tbody>\n",
       "</table>\n",
       "</div>"
      ],
      "text/plain": [
       "Empty DataFrame\n",
       "Columns: [listing_id, name, host_id, host_name, neighbourhood_full, room_type, price, number_of_reviews, last_review, reviews_per_month, availability_365, rating, number_of_stays, 5_stars, listing_added, latitude, longitude]\n",
       "Index: []"
      ]
     },
     "execution_count": 24,
     "metadata": {},
     "output_type": "execute_result"
    }
   ],
   "source": [
    "# Are there reviews in the future?\n",
    "airbnb[airbnb['last_review'].dt.date > today]"
   ]
  },
  {
   "cell_type": "code",
   "execution_count": 25,
   "metadata": {},
   "outputs": [
    {
     "data": {
      "text/html": [
       "<div>\n",
       "<style scoped>\n",
       "    .dataframe tbody tr th:only-of-type {\n",
       "        vertical-align: middle;\n",
       "    }\n",
       "\n",
       "    .dataframe tbody tr th {\n",
       "        vertical-align: top;\n",
       "    }\n",
       "\n",
       "    .dataframe thead th {\n",
       "        text-align: right;\n",
       "    }\n",
       "</style>\n",
       "<table border=\"1\" class=\"dataframe\">\n",
       "  <thead>\n",
       "    <tr style=\"text-align: right;\">\n",
       "      <th></th>\n",
       "      <th>listing_id</th>\n",
       "      <th>name</th>\n",
       "      <th>host_id</th>\n",
       "      <th>host_name</th>\n",
       "      <th>neighbourhood_full</th>\n",
       "      <th>room_type</th>\n",
       "      <th>price</th>\n",
       "      <th>number_of_reviews</th>\n",
       "      <th>last_review</th>\n",
       "      <th>reviews_per_month</th>\n",
       "      <th>availability_365</th>\n",
       "      <th>rating</th>\n",
       "      <th>number_of_stays</th>\n",
       "      <th>5_stars</th>\n",
       "      <th>listing_added</th>\n",
       "      <th>latitude</th>\n",
       "      <th>longitude</th>\n",
       "    </tr>\n",
       "  </thead>\n",
       "  <tbody>\n",
       "  </tbody>\n",
       "</table>\n",
       "</div>"
      ],
      "text/plain": [
       "Empty DataFrame\n",
       "Columns: [listing_id, name, host_id, host_name, neighbourhood_full, room_type, price, number_of_reviews, last_review, reviews_per_month, availability_365, rating, number_of_stays, 5_stars, listing_added, latitude, longitude]\n",
       "Index: []"
      ]
     },
     "execution_count": 25,
     "metadata": {},
     "output_type": "execute_result"
    }
   ],
   "source": [
    "# Are there listings in the future?\n",
    "airbnb[airbnb['listing_added'].dt.date > today]"
   ]
  },
  {
   "cell_type": "code",
   "execution_count": 26,
   "metadata": {},
   "outputs": [
    {
     "data": {
      "text/html": [
       "<div>\n",
       "<style scoped>\n",
       "    .dataframe tbody tr th:only-of-type {\n",
       "        vertical-align: middle;\n",
       "    }\n",
       "\n",
       "    .dataframe tbody tr th {\n",
       "        vertical-align: top;\n",
       "    }\n",
       "\n",
       "    .dataframe thead th {\n",
       "        text-align: right;\n",
       "    }\n",
       "</style>\n",
       "<table border=\"1\" class=\"dataframe\">\n",
       "  <thead>\n",
       "    <tr style=\"text-align: right;\">\n",
       "      <th></th>\n",
       "      <th>listing_id</th>\n",
       "      <th>name</th>\n",
       "      <th>host_id</th>\n",
       "      <th>host_name</th>\n",
       "      <th>neighbourhood_full</th>\n",
       "      <th>room_type</th>\n",
       "      <th>price</th>\n",
       "      <th>number_of_reviews</th>\n",
       "      <th>last_review</th>\n",
       "      <th>reviews_per_month</th>\n",
       "      <th>availability_365</th>\n",
       "      <th>rating</th>\n",
       "      <th>number_of_stays</th>\n",
       "      <th>5_stars</th>\n",
       "      <th>listing_added</th>\n",
       "      <th>latitude</th>\n",
       "      <th>longitude</th>\n",
       "    </tr>\n",
       "  </thead>\n",
       "  <tbody>\n",
       "    <tr>\n",
       "      <th>4</th>\n",
       "      <td>22986519</td>\n",
       "      <td>Bedroom on the lively Lower East Side</td>\n",
       "      <td>154262349</td>\n",
       "      <td>Brooke</td>\n",
       "      <td>Manhattan, Lower East Side</td>\n",
       "      <td>Private room</td>\n",
       "      <td>160$</td>\n",
       "      <td>23</td>\n",
       "      <td>2019-06-12</td>\n",
       "      <td>2.29</td>\n",
       "      <td>102</td>\n",
       "      <td>3.822591</td>\n",
       "      <td>27.6</td>\n",
       "      <td>0.649383</td>\n",
       "      <td>2020-10-23</td>\n",
       "      <td>40.71884</td>\n",
       "      <td>-73.98354</td>\n",
       "    </tr>\n",
       "    <tr>\n",
       "      <th>50</th>\n",
       "      <td>20783900</td>\n",
       "      <td>Marvelous Manhattan Marble Hill Private Suites</td>\n",
       "      <td>148960265</td>\n",
       "      <td>Randy</td>\n",
       "      <td>Manhattan, Marble Hill</td>\n",
       "      <td>Private room</td>\n",
       "      <td>93$</td>\n",
       "      <td>7</td>\n",
       "      <td>2018-10-06</td>\n",
       "      <td>0.32</td>\n",
       "      <td>0</td>\n",
       "      <td>4.868036</td>\n",
       "      <td>8.4</td>\n",
       "      <td>0.609263</td>\n",
       "      <td>2020-02-17</td>\n",
       "      <td>40.87618</td>\n",
       "      <td>-73.91266</td>\n",
       "    </tr>\n",
       "    <tr>\n",
       "      <th>60</th>\n",
       "      <td>1908852</td>\n",
       "      <td>Oversized Studio By Columbus Circle</td>\n",
       "      <td>684629</td>\n",
       "      <td>Alana</td>\n",
       "      <td>Manhattan, Upper West Side</td>\n",
       "      <td>Entire home/apt</td>\n",
       "      <td>189$</td>\n",
       "      <td>7</td>\n",
       "      <td>2016-05-06</td>\n",
       "      <td>0.13</td>\n",
       "      <td>0</td>\n",
       "      <td>4.841204</td>\n",
       "      <td>8.4</td>\n",
       "      <td>0.725995</td>\n",
       "      <td>2017-09-17</td>\n",
       "      <td>40.77060</td>\n",
       "      <td>-73.98919</td>\n",
       "    </tr>\n",
       "    <tr>\n",
       "      <th>124</th>\n",
       "      <td>28659894</td>\n",
       "      <td>Private bedroom in prime Bushwick! Near Trains!!!</td>\n",
       "      <td>216235179</td>\n",
       "      <td>Nina</td>\n",
       "      <td>Brooklyn, Bushwick</td>\n",
       "      <td>Private room</td>\n",
       "      <td>55$</td>\n",
       "      <td>4</td>\n",
       "      <td>2019-04-12</td>\n",
       "      <td>0.58</td>\n",
       "      <td>358</td>\n",
       "      <td>4.916252</td>\n",
       "      <td>4.8</td>\n",
       "      <td>0.703117</td>\n",
       "      <td>2020-08-23</td>\n",
       "      <td>40.69988</td>\n",
       "      <td>-73.92072</td>\n",
       "    </tr>\n",
       "    <tr>\n",
       "      <th>511</th>\n",
       "      <td>33619855</td>\n",
       "      <td>Modern &amp; Spacious in trendy Crown Heights</td>\n",
       "      <td>253354074</td>\n",
       "      <td>Yehudis</td>\n",
       "      <td>Brooklyn, Crown Heights</td>\n",
       "      <td>home</td>\n",
       "      <td>150$</td>\n",
       "      <td>6</td>\n",
       "      <td>2019-05-27</td>\n",
       "      <td>2.50</td>\n",
       "      <td>148</td>\n",
       "      <td>3.462432</td>\n",
       "      <td>7.2</td>\n",
       "      <td>0.610929</td>\n",
       "      <td>2020-10-07</td>\n",
       "      <td>40.66387</td>\n",
       "      <td>-73.93840</td>\n",
       "    </tr>\n",
       "    <tr>\n",
       "      <th>521</th>\n",
       "      <td>25317793</td>\n",
       "      <td>Awesome Cozy Room in The Heart of Sunnyside!</td>\n",
       "      <td>136406167</td>\n",
       "      <td>Kara</td>\n",
       "      <td>Queens, Sunnyside</td>\n",
       "      <td>Private room</td>\n",
       "      <td>65$</td>\n",
       "      <td>22</td>\n",
       "      <td>2019-06-11</td>\n",
       "      <td>1.63</td>\n",
       "      <td>131</td>\n",
       "      <td>4.442485</td>\n",
       "      <td>26.4</td>\n",
       "      <td>0.722388</td>\n",
       "      <td>2020-10-22</td>\n",
       "      <td>40.74090</td>\n",
       "      <td>-73.92696</td>\n",
       "    </tr>\n",
       "  </tbody>\n",
       "</table>\n",
       "</div>"
      ],
      "text/plain": [
       "     listing_id                                               name    host_id  \\\n",
       "4      22986519              Bedroom on the lively Lower East Side  154262349   \n",
       "50     20783900     Marvelous Manhattan Marble Hill Private Suites  148960265   \n",
       "60      1908852                Oversized Studio By Columbus Circle     684629   \n",
       "124    28659894  Private bedroom in prime Bushwick! Near Trains!!!  216235179   \n",
       "511    33619855          Modern & Spacious in trendy Crown Heights  253354074   \n",
       "521    25317793       Awesome Cozy Room in The Heart of Sunnyside!  136406167   \n",
       "\n",
       "    host_name          neighbourhood_full        room_type price  \\\n",
       "4      Brooke  Manhattan, Lower East Side     Private room  160$   \n",
       "50      Randy      Manhattan, Marble Hill     Private room   93$   \n",
       "60      Alana  Manhattan, Upper West Side  Entire home/apt  189$   \n",
       "124      Nina          Brooklyn, Bushwick     Private room   55$   \n",
       "511   Yehudis     Brooklyn, Crown Heights             home  150$   \n",
       "521      Kara           Queens, Sunnyside     Private room   65$   \n",
       "\n",
       "     number_of_reviews last_review  reviews_per_month  availability_365  \\\n",
       "4                   23  2019-06-12               2.29               102   \n",
       "50                   7  2018-10-06               0.32                 0   \n",
       "60                   7  2016-05-06               0.13                 0   \n",
       "124                  4  2019-04-12               0.58               358   \n",
       "511                  6  2019-05-27               2.50               148   \n",
       "521                 22  2019-06-11               1.63               131   \n",
       "\n",
       "       rating  number_of_stays   5_stars listing_added  latitude  longitude  \n",
       "4    3.822591             27.6  0.649383    2020-10-23  40.71884  -73.98354  \n",
       "50   4.868036              8.4  0.609263    2020-02-17  40.87618  -73.91266  \n",
       "60   4.841204              8.4  0.725995    2017-09-17  40.77060  -73.98919  \n",
       "124  4.916252              4.8  0.703117    2020-08-23  40.69988  -73.92072  \n",
       "511  3.462432              7.2  0.610929    2020-10-07  40.66387  -73.93840  \n",
       "521  4.442485             26.4  0.722388    2020-10-22  40.74090  -73.92696  "
      ]
     },
     "execution_count": 26,
     "metadata": {},
     "output_type": "execute_result"
    }
   ],
   "source": [
    "# Are there any listings with listing_added > last_review\n",
    "inconsistent_dates = airbnb[airbnb['listing_added'].dt.date > airbnb['last_review'].dt.date]\n",
    "inconsistent_dates"
   ]
  },
  {
   "cell_type": "code",
   "execution_count": 27,
   "metadata": {},
   "outputs": [],
   "source": [
    "# Drop these rows since they are only 6 rows\n",
    "airbnb.drop(inconsistent_dates.index, inplace = True)"
   ]
  },
  {
   "cell_type": "code",
   "execution_count": 29,
   "metadata": {},
   "outputs": [
    {
     "data": {
      "text/plain": [
       "0     45\n",
       "1    135\n",
       "2    150\n",
       "3     86\n",
       "5    150\n",
       "Name: price, dtype: object"
      ]
     },
     "execution_count": 29,
     "metadata": {},
     "output_type": "execute_result"
    }
   ],
   "source": [
    "# Remove $ from price before conversion to float\n",
    "airbnb['price'] = airbnb['price'].str.strip(\"$\")\n",
    "# Print header to make sure change was done\n",
    "airbnb['price'].head()"
   ]
  },
  {
   "cell_type": "code",
   "execution_count": 31,
   "metadata": {},
   "outputs": [
    {
     "name": "stdout",
     "output_type": "stream",
     "text": [
      "150.9249104859335\n",
      "8000.0\n"
     ]
    }
   ],
   "source": [
    "# Convert price to float\n",
    "airbnb['price'] = airbnb['price'].astype('float')\n",
    "# Calculate mean of price after conversion\n",
    "print(airbnb['price'].mean())\n",
    "print(airbnb['price'].max())"
   ]
  },
  {
   "cell_type": "code",
   "execution_count": null,
   "metadata": {},
   "outputs": [],
   "source": []
  }
 ],
 "metadata": {
  "kernelspec": {
   "display_name": "GUVI",
   "language": "python",
   "name": "python3"
  },
  "language_info": {
   "codemirror_mode": {
    "name": "ipython",
    "version": 3
   },
   "file_extension": ".py",
   "mimetype": "text/x-python",
   "name": "python",
   "nbconvert_exporter": "python",
   "pygments_lexer": "ipython3",
   "version": "3.12.2"
  }
 },
 "nbformat": 4,
 "nbformat_minor": 2
}
